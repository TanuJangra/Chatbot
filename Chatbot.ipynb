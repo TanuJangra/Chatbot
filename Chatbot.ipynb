{
  "nbformat": 4,
  "nbformat_minor": 0,
  "metadata": {
    "colab": {
      "provenance": [],
      "authorship_tag": "ABX9TyNZPhbXe7ZeWAABTv/vmGp/",
      "include_colab_link": true
    },
    "kernelspec": {
      "name": "python3",
      "display_name": "Python 3"
    },
    "language_info": {
      "name": "python"
    }
  },
  "cells": [
    {
      "cell_type": "markdown",
      "metadata": {
        "id": "view-in-github",
        "colab_type": "text"
      },
      "source": [
        "<a href=\"https://colab.research.google.com/github/TanuJangra/Chatbot/blob/main/Chatbot.ipynb\" target=\"_parent\"><img src=\"https://colab.research.google.com/assets/colab-badge.svg\" alt=\"Open In Colab\"/></a>"
      ]
    },
    {
      "cell_type": "code",
      "execution_count": 4,
      "metadata": {
        "colab": {
          "base_uri": "https://localhost:8080/"
        },
        "id": "YXJiOHdtZsDO",
        "outputId": "cd920cee-0535-44e7-87fc-5a8d417d75c7"
      },
      "outputs": [
        {
          "output_type": "stream",
          "name": "stderr",
          "text": [
            "[nltk_data] Downloading package punkt to /root/nltk_data...\n",
            "[nltk_data]   Package punkt is already up-to-date!\n",
            "[nltk_data] Downloading package wordnet to /root/nltk_data...\n",
            "[nltk_data]   Package wordnet is already up-to-date!\n"
          ]
        }
      ],
      "source": [
        "import nltk\n",
        "import json\n",
        "from nltk.stem import WordNetLemmatizer\n",
        "\n",
        "# Download the required nltk packages\n",
        "nltk.download(\"punkt\")\n",
        "nltk.download(\"wordnet\")\n",
        "\n",
        "# Initialize the lemmatizer\n",
        "lemmatizer = WordNetLemmatizer()\n",
        "\n",
        "# Load the intents from the intents.json file\n",
        "with open(\"intents (1).json\") as file:\n",
        "    intents = json.load(file)\n",
        "\n",
        "# Define the function to clean and tokenize the input text\n",
        "def clean_and_tokenize(input_text):\n",
        "    # Tokenize the input text\n",
        "    tokens = nltk.word_tokenize(input_text.lower())\n",
        "    # Lemmatize the tokens\n",
        "    lemmatized_tokens = [lemmatizer.lemmatize(token) for token in tokens]\n",
        "    return lemmatized_tokens\n",
        "\n",
        "# Define the function to get the intent of the user input\n",
        "def get_intent(input_text):\n",
        "    lemmatized_tokens = clean_and_tokenize(input_text)\n",
        "    # Check if the input matches any of the intents\n",
        "    for intent in intents[\"intents\"]:\n",
        "        for pattern in intent[\"patterns\"]:\n",
        "            if all([lemmatizer.lemmatize(token) in lemmatized_tokens for token in nltk.word_tokenize(pattern.lower())]):\n",
        "                return intent\n",
        "    return None\n",
        "\n",
        "# Define the function to get the response based on the intent\n",
        "def get_response(intent):\n",
        "    responses = intent[\"responses\"]\n",
        "    return responses[0]\n",
        "\n",
        "# Define the function to handle user input\n",
        "def respond_to_user_input(input_text):\n",
        "    intent = get_intent(input_text)\n",
        "    if intent is not None:\n",
        "        response = get_response(intent)\n",
        "        print(\"IGDTUW_Bot:\", response)\n",
        "        return response\n",
        "    else:\n",
        "        print(\"IGDTUW_Bot: Sorry, I don't understand. Can you please rephrase?\")\n",
        "        return \"Sorry, I don't understand. Can you please rephrase?\""
      ]
    },
    {
      "cell_type": "code",
      "source": [
        "# Define function to handle user input\n",
        "def chat():\n",
        "    print('Start talking with the bot (type \"quit\" to exit):')\n",
        "    while True:\n",
        "        # Get user input\n",
        "        user_input = input('User:').lower()\n",
        "\n",
        "        # Exit loop if user types \"quit\"\n",
        "        if user_input == 'quit':\n",
        "            break\n",
        "\n",
        "        # Get response from chatbot model\n",
        "        response = respond_to_user_input(user_input)"
      ],
      "metadata": {
        "id": "UTzrP7TSZxvq"
      },
      "execution_count": 5,
      "outputs": []
    },
    {
      "cell_type": "code",
      "source": [
        "chat()"
      ],
      "metadata": {
        "colab": {
          "base_uri": "https://localhost:8080/"
        },
        "id": "NpiEDiUhZx5f",
        "outputId": "1c9b2dc3-b278-41db-8a35-252b2b7d3182"
      },
      "execution_count": 6,
      "outputs": [
        {
          "name": "stdout",
          "output_type": "stream",
          "text": [
            "Start talking with the bot (type \"quit\" to exit):\n",
            "User:hii\n",
            "IGDTUW_Bot: Hi, How can I help you?\n",
            "User:vc\n",
            "IGDTUW_Bot: Dr. (Mrs.) Amita Dev is the vice chancellor of IGDTUW.For more information, pls view the link:<a href='https://www.igdtuw.ac.in/AboutUs.php?id=3'>Click here </a>\n",
            "User:registrat mail\n",
            "IGDTUW_Bot: Sorry, I don't understand. Can you please rephrase?\n",
            "User:quit\n"
          ]
        }
      ]
    },
    {
      "cell_type": "code",
      "source": [
        "import numpy as np\n",
        "import matplotlib.pyplot as plt\n",
        " \n",
        "  \n",
        "# creating the dataset\n",
        "data = {'Naive Bayes':63.2, 'SVM':78.7, 'Decision Tree':85.9 ,'Logistic Regression': 71.9,'NLP':93.8}\n",
        "courses = list(data.keys())\n",
        "values = list(data.values())\n",
        "  \n",
        "fig = plt.figure(figsize = (10, 3.5))\n",
        " \n",
        "# creating the bar plot\n",
        "plt.bar(courses,values)\n",
        " \n",
        "plt.xlabel(\"Experiment: Different algorithms\")\n",
        "plt.ylabel(\"Accuracy\")\n",
        "plt.show()"
      ],
      "metadata": {
        "colab": {
          "base_uri": "https://localhost:8080/",
          "height": 349
        },
        "id": "zAgW0ZZ1Zx9r",
        "outputId": "e29f9c3a-8931-4083-f156-287f79f1ebc2"
      },
      "execution_count": 7,
      "outputs": [
        {
          "output_type": "display_data",
          "data": {
            "text/plain": [
              "<Figure size 1000x350 with 1 Axes>"
            ],
            "image/png": "[encoded data removed]"
          },
          "metadata": {}
        }
      ]
    },
    {
      "cell_type": "code",
      "source": [
        "import math\n",
        "import json\n",
        "from collections import Counter\n",
        "import nltk\n",
        "\n",
        "nltk.download('punkt')  # Download the required tokenizer\n",
        "\n",
        "# Load intents.json\n",
        "with open('intents (1).json') as file:\n",
        "    intents = json.load(file)\n",
        "\n",
        "# Extract text data from intents.json\n",
        "corpus = []\n",
        "for intent in intents['intents']:\n",
        "    for pattern in intent['patterns']:\n",
        "        corpus.append(pattern)\n",
        "\n",
        "# Tokenization and frequency count\n",
        "tokens = [token for sentence in corpus for token in nltk.word_tokenize(sentence)]\n",
        "frequency_count = Counter(tokens)\n",
        "\n",
        "# Probability calculation\n",
        "total_tokens = len(tokens)\n",
        "token_probabilities = {token: count / total_tokens for token, count in frequency_count.items()}\n",
        "\n",
        "# Entropy calculation\n",
        "entropy = -sum(prob * math.log2(prob) for prob in token_probabilities.values())\n",
        "\n",
        "# Normalize the entropy\n",
        "max_entropy = math.log2(len(token_probabilities))\n",
        "normalized_entropy = entropy / max_entropy\n",
        "\n",
        "print(\"Normalized Entropy:\", normalized_entropy)"
      ],
      "metadata": {
        "colab": {
          "base_uri": "https://localhost:8080/"
        },
        "id": "AAk79gQwZ56y",
        "outputId": "f2a6b5c8-a5db-46b1-a32f-6dcd8bfcda3b"
      },
      "execution_count": 9,
      "outputs": [
        {
          "output_type": "stream",
          "name": "stdout",
          "text": [
            "Normalized Entropy: 0.7760522517603657\n"
          ]
        },
        {
          "output_type": "stream",
          "name": "stderr",
          "text": [
            "[nltk_data] Downloading package punkt to /root/nltk_data...\n",
            "[nltk_data]   Package punkt is already up-to-date!\n"
          ]
        }
      ]
    }
  ]
}